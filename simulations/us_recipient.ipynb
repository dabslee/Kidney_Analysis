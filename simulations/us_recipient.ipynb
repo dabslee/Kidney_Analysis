{
 "cells": [
  {
   "cell_type": "code",
   "execution_count": 2,
   "metadata": {},
   "outputs": [],
   "source": [
    "import pandas as pd\n",
    "from matplotlib import pyplot as plt\n",
    "import numpy as np\n",
    "import statsmodels.formula.api as smf\n",
    "import scipy as sp\n",
    "from ipumspy import readers, ddi"
   ]
  },
  {
   "cell_type": "code",
   "execution_count": 3,
   "metadata": {},
   "outputs": [
    {
     "name": "stderr",
     "output_type": "stream",
     "text": [
      "C:\\Users\\brand\\AppData\\Local\\Temp\\ipykernel_2404\\580209939.py:27: DtypeWarning: Columns (2,8,17,18,19,20,21,22,31,33,37,47,48,54,67,81,82,83,84,85,86,87,88,89,90,91,92,103,385,386) have mixed types. Specify dtype option on import or set low_memory=False.\n",
      "  kidpan_data = pd.read_csv(\n"
     ]
    }
   ],
   "source": [
    "included_rows = [\n",
    "    0, # WL_ORG - Organ type\n",
    "    54, # INIT_AGE - Initial age of recipient at listing\n",
    "    61, # INIT_DATE - Initial date of recipient listing\n",
    "    24, # GENDER - Recipient gender\n",
    "    63, # ETHCAT - Recipient ethnicity\n",
    "    385, # HGT_CM_CALC - Recipient height (cm)\n",
    "    386, # WGT_KG_CALC - Recipient weight (kg)\n",
    "    33, # EDUCATION - Recipient highest education at listing\n",
    "    32, # PERM_STATE - Recipient state of residency\n",
    "    31, # CITIZEN_COUNTRY - Recipient country of residency\n",
    "    103, # PRI_PAYMENT_TCR_KI - Recipient primary projected payment source at listing\n",
    "    6, # CREAT_CLEAR - Recipient CrCl at listing\n",
    "    7, # GFR - Recipient GFR at listing\n",
    "    25, # ABO - Recipient ABO blood type\n",
    "    17,18,19,20,21,22,81,82,83,84,85,86,87,88,89,90,91,92, # A1,A2,B1,B2,DR1,DR2,BW4,BW6,C1,C2,DR51,DR51_2,DR52,DR52_2,DR53,DR53_2,DQB1,DQB2\n",
    "    37, # DIAB - Recipient diabetes at listing\n",
    "    8, # DONATION - Receives allocation points for previously donating an organ\n",
    "    2, # NUM_PREV_TX - Recipient number of previous transplants\n",
    "    47, # INIT_CPRA - Recipient CPRA at listing\n",
    "    48, # END_CPRA - Recipient most recent CPRA\n",
    "    58, # DIALYSIS_DATE - Date recipient started regular dialysis for ESRD\n",
    "    118, # TX_DATE - Transplant date\n",
    "    68, # COMPOSITE_DEATH_DATE - Death date\n",
    "    67, # DAYSWAIT_ALLOC - official waiting time for allocation priority as measured by the OPTN standards\n",
    "]\n",
    "kidpan_data = pd.read_csv(\n",
    "    \"C:/Users/brand/Desktop/STAR_Delimited/Delimited Text File 202312/Kidney_ Pancreas_ Kidney-Pancreas/KIDPAN_DATA.DAT\",\n",
    "    sep=\"\\t\",\n",
    "    usecols=included_rows\n",
    ")\n",
    "colnames = pd.read_csv(\n",
    "    \"C:/Users/brand/Desktop/STAR_Delimited/Analysis/KIDPAN_DATA_colnames.csv\",\n",
    "    sep=\",\",\n",
    "    header=0,\n",
    "    skiprows=lambda x : x-1 not in included_rows + [-1]\n",
    ")\n",
    "kidpan_data.columns = list(colnames[\"LABEL\"])\n",
    "kidpan_data = kidpan_data[kidpan_data[\"WL_ORG\"] == \"KI\"]"
   ]
  },
  {
   "cell_type": "code",
   "execution_count": 4,
   "metadata": {},
   "outputs": [],
   "source": [
    "kidpan_data = kidpan_data.replace(\".\", np.nan)"
   ]
  },
  {
   "cell_type": "code",
   "execution_count": 5,
   "metadata": {},
   "outputs": [
    {
     "data": {
      "text/plain": [
       "Index(['WL_ORG', 'NUM_PREV_TX', 'CREAT_CLEAR', 'GFR', 'DONATION', 'A1', 'A2',\n",
       "       'B1', 'B2', 'DR1', 'DR2', 'GENDER', 'ABO', 'CITIZEN_COUNTRY',\n",
       "       'PERM_STATE', 'EDUCATION', 'DIAB', 'INIT_CPRA', 'END_CPRA', 'INIT_AGE',\n",
       "       'DIALYSIS_DATE', 'INIT_DATE', 'ETHCAT', 'DAYSWAIT_ALLOC',\n",
       "       'COMPOSITE_DEATH_DATE', 'BW4', 'BW6', 'C1', 'C2', 'DR51', 'DR51_2',\n",
       "       'DR52', 'DR52_2', 'DR53', 'DR53_2', 'DQ1', 'DQ2', 'PRI_PAYMENT_TCR_KI',\n",
       "       'TX_DATE', 'HGT_CM_CALC', 'WGT_KG_CALC'],\n",
       "      dtype='object')"
      ]
     },
     "execution_count": 5,
     "metadata": {},
     "output_type": "execute_result"
    }
   ],
   "source": [
    "kidpan_data.columns"
   ]
  },
  {
   "cell_type": "code",
   "execution_count": 10,
   "metadata": {},
   "outputs": [],
   "source": [
    "# refactor columns into correct formats\n",
    "kidpan_data[\"INIT_AGE\"] = kidpan_data[\"INIT_AGE\"].astype(float)\n",
    "for date_column in [\"INIT_DATE\", \"DIALYSIS_DATE\", \"TX_DATE\", \"COMPOSITE_DEATH_DATE\"]:\n",
    "    kidpan_data[date_column] = pd.to_datetime(kidpan_data[date_column].replace(\".\", np.nan))\n",
    "for hla_column in [\"A1\", \"A2\", \"B1\", \"B2\", \"DR1\", \"DR2\", \"BW4\", \"BW6\", \"C1\", \"C2\", \"DR51\", \"DR51_2\", \"DR52\", \"DR52_2\", \"DR53\", \"DR53_2\", \"DQ1\", \"DQ2\"]:\n",
    "    kidpan_data[hla_column] = kidpan_data[hla_column].astype(float).replace(97, np.nan).replace(99, np.nan)"
   ]
  },
  {
   "cell_type": "code",
   "execution_count": 11,
   "metadata": {},
   "outputs": [],
   "source": [
    "kidpan_data = kidpan_data[kidpan_data[\"INIT_DATE\"].dt.year >= 2013]"
   ]
  },
  {
   "cell_type": "code",
   "execution_count": 12,
   "metadata": {},
   "outputs": [
    {
     "name": "stdout",
     "output_type": "stream",
     "text": [
      "WL_ORG               : 0.0\n",
      "NUM_PREV_TX          : 0.0\n",
      "CREAT_CLEAR          : 0.981\n",
      "GFR                  : 0.536\n",
      "DONATION             : 0.0\n",
      "A1                   : 0.0\n",
      "A2                   : 0.0\n",
      "B1                   : 0.0\n",
      "B2                   : 0.0\n",
      "DR1                  : 0.0\n",
      "DR2                  : 0.0\n",
      "GENDER               : 0.0\n",
      "ABO                  : 0.0\n",
      "CITIZEN_COUNTRY      : 0.989\n",
      "PERM_STATE           : 0.002\n",
      "EDUCATION            : 0.006\n",
      "DIAB                 : 0.0\n",
      "INIT_CPRA            : 0.085\n",
      "END_CPRA             : 0.174\n",
      "INIT_AGE             : 0.0\n",
      "DIALYSIS_DATE        : 0.262\n",
      "INIT_DATE            : 0.0\n",
      "ETHCAT               : 0.0\n",
      "DAYSWAIT_ALLOC       : 0.015\n",
      "COMPOSITE_DEATH_DATE : 0.8\n",
      "BW4                  : 0.0\n",
      "BW6                  : 0.0\n",
      "C1                   : 0.0\n",
      "C2                   : 0.0\n",
      "DR51                 : 0.015\n",
      "DR51_2               : 0.005\n",
      "DR52                 : 0.014\n",
      "DR52_2               : 0.005\n",
      "DR53                 : 0.014\n",
      "DR53_2               : 0.005\n",
      "DQ1                  : 0.0\n",
      "DQ2                  : 0.0\n",
      "PRI_PAYMENT_TCR_KI   : 0.006\n",
      "TX_DATE              : 0.553\n",
      "HGT_CM_CALC          : 0.553\n",
      "WGT_KG_CALC          : 0.553\n"
     ]
    }
   ],
   "source": [
    "for column in kidpan_data.columns:\n",
    "    print(f\"{column.ljust(20, ' ')} : {np.round(np.sum(kidpan_data[column].isna()) / kidpan_data.shape[0], 3)}\")"
   ]
  },
  {
   "cell_type": "markdown",
   "metadata": {},
   "source": [
    "```\n",
    "Columns missing too much (>60%):\n",
    "CREAT_CLEAR          : 0.958\n",
    "GFR                  : 0.68\n",
    "CITIZEN_COUNTRY      : 0.995\n",
    "HGT_CM_CALC          : 0.508\n",
    "WGT_KG_CALC          : 0.504\n",
    "\n",
    "Recalculate:\n",
    "DAYSWAIT_ALLOC       : 0.166\n",
    "\n",
    "Fill out unfilled with null values:\n",
    "DONATION             : 0.056\n",
    "DIAB                 : 0.095\n",
    "DIALYSIS_DATE        : 0.402\n",
    "COMPOSITE_DEATH_DATE : 0.559\n",
    "PRI_PAYMENT_TCR_KI   : 0.098\n",
    "TX_DATE              : 0.499\n",
    "\n",
    "Exclude missing values:\n",
    "PERM_STATE           : 0.018\n",
    "EDUCATION            : 0.098\n",
    "```"
   ]
  },
  {
   "cell_type": "code",
   "execution_count": 13,
   "metadata": {},
   "outputs": [
    {
     "name": "stdout",
     "output_type": "stream",
     "text": [
      "                              OLS Regression Results                             \n",
      "=================================================================================\n",
      "Dep. Variable:     INIT_DATE_SINCE_FIRST   R-squared:                       0.531\n",
      "Model:                               OLS   Adj. R-squared:                  0.531\n",
      "Method:                    Least Squares   F-statistic:                 3.698e+05\n",
      "Date:                   Sun, 07 Apr 2024   Prob (F-statistic):               0.00\n",
      "Time:                           22:38:22   Log-Likelihood:            -7.1699e+05\n",
      "No. Observations:                 326086   AIC:                         1.434e+06\n",
      "Df Residuals:                     326084   BIC:                         1.434e+06\n",
      "Df Model:                              1                                         \n",
      "Covariance Type:               nonrobust                                         \n",
      "=============================================================================================\n",
      "                                coef    std err          t      P>|t|      [0.025      0.975]\n",
      "---------------------------------------------------------------------------------------------\n",
      "Intercept                     3.5186      0.005    693.177      0.000       3.509       3.529\n",
      "DIALYSIS_DATE_SINCE_FIRST     0.5723      0.001    608.092      0.000       0.570       0.574\n",
      "==============================================================================\n",
      "Omnibus:                    59992.680   Durbin-Watson:                   1.082\n",
      "Prob(Omnibus):                  0.000   Jarque-Bera (JB):           168892.939\n",
      "Skew:                           0.983   Prob(JB):                         0.00\n",
      "Kurtosis:                       5.927   Cond. No.                         7.28\n",
      "==============================================================================\n",
      "\n",
      "Notes:\n",
      "[1] Standard Errors assume that the covariance matrix of the errors is correctly specified.\n"
     ]
    }
   ],
   "source": [
    "kidpan_data[\"INIT_DATE_SINCE_FIRST\"] = (kidpan_data[\"INIT_DATE\"] - kidpan_data[\"INIT_DATE\"].min()).dt.days / 365\n",
    "kidpan_data[\"DIALYSIS_DATE_SINCE_FIRST\"] = (kidpan_data[\"DIALYSIS_DATE\"] - kidpan_data[\"INIT_DATE\"].min()).dt.days / 365\n",
    "two_date_model = smf.ols(formula=\"INIT_DATE_SINCE_FIRST ~ DIALYSIS_DATE_SINCE_FIRST\", data=kidpan_data, missing=\"drop\")\n",
    "results = two_date_model.fit()\n",
    "print(results.summary())"
   ]
  },
  {
   "cell_type": "code",
   "execution_count": 44,
   "metadata": {},
   "outputs": [
    {
     "data": {
      "text/plain": [
       "[<matplotlib.lines.Line2D at 0x177df1324d0>]"
      ]
     },
     "execution_count": 44,
     "metadata": {},
     "output_type": "execute_result"
    },
    {
     "data": {
      "image/png": "[encoded data removed]",
      "text/plain": [
       "<Figure size 640x480 with 1 Axes>"
      ]
     },
     "metadata": {},
     "output_type": "display_data"
    }
   ],
   "source": [
    "random_selection = np.random.uniform(0,1,size=kidpan_data.shape[0]) < 0.001\n",
    "plt.scatter(kidpan_data[\"DIALYSIS_DATE_SINCE_FIRST\"][random_selection], kidpan_data[\"INIT_DATE_SINCE_FIRST\"][random_selection], marker=\".\")\n",
    "plt.plot(np.linspace(-10,10,100), 0.5723*np.linspace(-10,10,100)+3.5186, color=\"r\")\n",
    "plt.plot(np.linspace(-10,10,100), np.linspace(-10,10,100), color=\"orange\")"
   ]
  },
  {
   "cell_type": "code",
   "execution_count": 49,
   "metadata": {},
   "outputs": [
    {
     "data": {
      "image/png": "[encoded data removed]",
      "text/plain": [
       "<Figure size 640x480 with 1 Axes>"
      ]
     },
     "metadata": {},
     "output_type": "display_data"
    }
   ],
   "source": [
    "plt.hist(kidpan_data[\"INIT_DATE_SINCE_FIRST\"] - kidpan_data[\"DIALYSIS_DATE_SINCE_FIRST\"], bins=100)\n",
    "plt.show()"
   ]
  }
 ],
 "metadata": {
  "kernelspec": {
   "display_name": "Python 3",
   "language": "python",
   "name": "python3"
  },
  "language_info": {
   "codemirror_mode": {
    "name": "ipython",
    "version": 3
   },
   "file_extension": ".py",
   "mimetype": "text/x-python",
   "name": "python",
   "nbconvert_exporter": "python",
   "pygments_lexer": "ipython3",
   "version": "3.11.9"
  }
 },
 "nbformat": 4,
 "nbformat_minor": 2
}
