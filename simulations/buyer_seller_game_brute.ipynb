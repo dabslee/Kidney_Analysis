{
 "cells": [
  {
   "cell_type": "code",
   "execution_count": 102,
   "metadata": {},
   "outputs": [],
   "source": [
    "# NOT WORKING\n",
    "import numpy as np"
   ]
  },
  {
   "cell_type": "code",
   "execution_count": 103,
   "metadata": {},
   "outputs": [],
   "source": [
    "# check if current pairing is pareto equilibrium\n",
    "def is_steady_state(buyer_product_values, seller_product_values, pairings, epsilon=0):\n",
    "    for buyer_index in range(buyer_product_values.size):\n",
    "        for seller_index in range(seller_product_values.size):\n",
    "            buyer_point = buyer_current_partner = seller_point = seller_current_partner = np.nan\n",
    "            # if the buyer has not made a deal, its max acceptible price is its product_value\n",
    "            # if it has made a deal, its max acceptible price is its current price\n",
    "            try:\n",
    "                buyer_current_partner = np.nanargmax(pairings[buyer_index,:])\n",
    "                buyer_point = pairings[buyer_index, buyer_current_partner]\n",
    "            except ValueError:\n",
    "                buyer_point = buyer_product_values[buyer_index]\n",
    "            \n",
    "            # if the seller has not made a deal, its min acceptible price is its product_value\n",
    "            # if it has made a deal, its min acceptible price is its current price\n",
    "            try:\n",
    "                seller_current_partner = np.nanargmax(pairings[:, seller_index])\n",
    "                seller_point = pairings[seller_current_partner, seller_index]\n",
    "            except ValueError:\n",
    "                seller_point = seller_product_values[seller_index]\n",
    "\n",
    "            # if there is a deal to be made, make it and return\n",
    "            if buyer_point <= seller_point + epsilon: continue\n",
    "            return False\n",
    "    return True"
   ]
  },
  {
   "cell_type": "code",
   "execution_count": 136,
   "metadata": {},
   "outputs": [
    {
     "name": "stdout",
     "output_type": "stream",
     "text": [
      "min, max\n",
      "[[nan  3.]\n",
      " [nan nan]\n",
      " [nan nan]]\n",
      "[[nan  3.]\n",
      " [nan nan]\n",
      " [nan nan]]\n",
      "count\n",
      "[[  0. 329.]\n",
      " [  0.   0.]\n",
      " [  0.   0.]]\n"
     ]
    },
    {
     "name": "stderr",
     "output_type": "stream",
     "text": [
      "C:\\Users\\brand\\AppData\\Local\\Temp\\ipykernel_17248\\1150718183.py:37: RuntimeWarning: All-NaN slice encountered\n",
      "  print(np.nanmin(results_matrix, axis=2))\n",
      "C:\\Users\\brand\\AppData\\Local\\Temp\\ipykernel_17248\\1150718183.py:38: RuntimeWarning: All-NaN slice encountered\n",
      "  print(np.nanmax(results_matrix, axis=2))\n"
     ]
    }
   ],
   "source": [
    "trials = 1000\n",
    "precision = 0\n",
    "epsilon = 10**-precision\n",
    "\n",
    "# the max prices buyers are willing to pay, sorted from strong to weak\n",
    "buyer_product_values = np.sort(np.random.choice(\n",
    "    np.arange(0,5,epsilon),\n",
    "    size=np.random.randint(1,5)\n",
    "))[::-1]\n",
    " # the min prices sellers are willing to accept, sorted from strong to weak\n",
    "seller_product_values = np.sort(np.random.choice(\n",
    "    np.arange(0,5,epsilon),\n",
    "    size=np.random.randint(1,5)\n",
    "))[::-1]\n",
    "\n",
    "results_matrix = np.empty(shape=(buyer_product_values.size, seller_product_values.size, trials))\n",
    "results_matrix[:] = np.nan\n",
    "\n",
    "for trial in range(trials):\n",
    "    # matrix of successful deals: buyer i sells to seller j at price k\n",
    "    pairings = np.empty((buyer_product_values.size, seller_product_values.size,))\n",
    "    pairings[:] = np.nan\n",
    "    # randomly generate pairings and random prices\n",
    "    buyer_permutation = np.random.permutation(np.arange(buyer_product_values.size))\n",
    "    seller_permutation = np.random.permutation(np.arange(seller_product_values.size))\n",
    "    for i in range(np.min([buyer_product_values.size, seller_product_values.size])):\n",
    "        if buyer_product_values[buyer_permutation[i]] >= seller_product_values[seller_permutation[i]] + epsilon:\n",
    "            pairings[buyer_permutation[i], seller_permutation[i]] = np.random.choice(\n",
    "                np.arange(seller_product_values[buyer_permutation[i]], buyer_product_values[buyer_permutation[i]] + epsilon, epsilon)\n",
    "            )\n",
    "    \n",
    "    if is_steady_state(buyer_product_values, seller_product_values, pairings, epsilon):\n",
    "        np.copyto(results_matrix[:,:,trial], pairings)\n",
    "        # print(pairings)\n",
    "\n",
    "print(\"min, max\")\n",
    "print(np.nanmin(results_matrix, axis=2))\n",
    "print(np.nanmax(results_matrix, axis=2))\n",
    "print(\"count\")\n",
    "print(trials * (1 - np.nanmean(np.isnan(results_matrix), axis=2)))"
   ]
  }
 ],
 "metadata": {
  "kernelspec": {
   "display_name": "Python 3",
   "language": "python",
   "name": "python3"
  },
  "language_info": {
   "codemirror_mode": {
    "name": "ipython",
    "version": 3
   },
   "file_extension": ".py",
   "mimetype": "text/x-python",
   "name": "python",
   "nbconvert_exporter": "python",
   "pygments_lexer": "ipython3",
   "version": "3.11.8"
  }
 },
 "nbformat": 4,
 "nbformat_minor": 2
}
