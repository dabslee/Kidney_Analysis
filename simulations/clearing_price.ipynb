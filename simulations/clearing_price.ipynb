{
 "cells": [
  {
   "cell_type": "code",
   "execution_count": 1,
   "metadata": {},
   "outputs": [],
   "source": [
    "import numpy as np\n",
    "import pandas as pd\n",
    "import clearing_price"
   ]
  },
  {
   "cell_type": "code",
   "execution_count": 2,
   "metadata": {},
   "outputs": [
    {
     "name": "stdout",
     "output_type": "stream",
     "text": [
      "seed: 467\n",
      "buyer_product_values:\n",
      "[0.54838547 0.09054483]\n",
      "seller_product_values:\n",
      "[0.60260841 0.33358517 0.10169891 0.02851686]\n",
      "clearing price interval:\n",
      "[0.09166023627105185, 0.10058349775064163]\n",
      "median clearing price:\n",
      "0.09612186701084674\n"
     ]
    }
   ],
   "source": [
    "clearing_price.run_example(467, search_type=\"linear\")"
   ]
  },
  {
   "cell_type": "code",
   "execution_count": 3,
   "metadata": {},
   "outputs": [
    {
     "name": "stdout",
     "output_type": "stream",
     "text": [
      "seed: 467\n",
      "buyer_product_values:\n",
      "[0.54838547 0.09054483]\n",
      "seller_product_values:\n",
      "[0.60260841 0.33358517 0.10169891 0.02851686]\n",
      "clearing price interval:\n",
      "[0.09054482858610313, 0.10169890543559035]\n",
      "median clearing price:\n",
      "0.09612186701084674\n"
     ]
    }
   ],
   "source": [
    "clearing_price.run_example(467, search_type=\"binary\")"
   ]
  }
 ],
 "metadata": {
  "kernelspec": {
   "display_name": "Python 3",
   "language": "python",
   "name": "python3"
  },
  "language_info": {
   "codemirror_mode": {
    "name": "ipython",
    "version": 3
   },
   "file_extension": ".py",
   "mimetype": "text/x-python",
   "name": "python",
   "nbconvert_exporter": "python",
   "pygments_lexer": "ipython3",
   "version": "3.11.8"
  }
 },
 "nbformat": 4,
 "nbformat_minor": 2
}
