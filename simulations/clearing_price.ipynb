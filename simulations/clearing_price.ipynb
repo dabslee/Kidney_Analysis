{
 "cells": [
  {
   "cell_type": "code",
   "execution_count": 61,
   "metadata": {},
   "outputs": [],
   "source": [
    "import numpy as np\n",
    "import pandas as pd"
   ]
  },
  {
   "cell_type": "code",
   "execution_count": 135,
   "metadata": {},
   "outputs": [],
   "source": [
    "# for a clearing price to be found, each buyer/seller must have a unique product_value\n",
    "def find_clearing_price(buyer_product_values, seller_product_values, precision):\n",
    "    significant_values = np.concatenate([buyer_product_values, seller_product_values])\n",
    "    minus_one = significant_values-10**-precision\n",
    "    plus_one = significant_values+10**-precision\n",
    "    significant_values = np.sort(np.concatenate([significant_values, minus_one, plus_one]))\n",
    "    \n",
    "    clearing_max_index = significant_values.size-1\n",
    "    # lower clearing_max while quantity demanded < quantity supplied\n",
    "    while ((np.sum(buyer_product_values >= significant_values[clearing_max_index])\n",
    "           != np.sum(seller_product_values <= significant_values[clearing_max_index]))\n",
    "           and clearing_max_index > 0):\n",
    "        clearing_max_index -= 1\n",
    "    \n",
    "    clearing_min_index = 0\n",
    "    # increase clearing_min while quantity demanded > quantity supplied\n",
    "    while ((np.sum(buyer_product_values >= significant_values[clearing_min_index])\n",
    "           != np.sum(seller_product_values <= significant_values[clearing_min_index]))\n",
    "           and clearing_min_index < significant_values.size-1):\n",
    "        clearing_min_index += 1\n",
    "\n",
    "    # return solution interval\n",
    "    if clearing_max_index < clearing_min_index: return None\n",
    "    min_bound = significant_values[clearing_min_index]\n",
    "    max_bound = significant_values[clearing_max_index]\n",
    "    return [min_bound, max_bound]"
   ]
  },
  {
   "cell_type": "code",
   "execution_count": 155,
   "metadata": {},
   "outputs": [
    {
     "name": "stdout",
     "output_type": "stream",
     "text": [
      "seed: 817\n",
      "buyer_product_values:\n",
      "[0.9038 0.7567 0.6512 0.2596]\n",
      "seller_product_values:\n",
      "[0.6364 0.5848 0.4052]\n",
      "clearing price interval:\n",
      "[0.6364, 0.6512]\n"
     ]
    }
   ],
   "source": [
    "trials = 1\n",
    "precision = 4\n",
    "\n",
    "for trial in range(trials):\n",
    "    rand_seed = int(np.random.random()*1000)\n",
    "    np.random.seed(rand_seed)\n",
    "    # the max prices buyers are willing to pay, sorted from strong to weak\n",
    "    buyer_product_values = np.sort(np.round(np.random.random(size=np.random.randint(1,5)), precision))[::-1]\n",
    "    # the min prices sellers are willing to accept, sorted from strong to weak\n",
    "    seller_product_values = np.sort(np.round(np.random.random(size=np.random.randint(1,5)), precision))[::-1]\n",
    "\n",
    "    print(\"seed:\", rand_seed)\n",
    "    print(\"buyer_product_values:\")\n",
    "    print(buyer_product_values)\n",
    "    print(\"seller_product_values:\")\n",
    "    print(seller_product_values)\n",
    "    print(\"clearing price interval:\")\n",
    "    print(find_clearing_price(buyer_product_values, seller_product_values, precision=precision+1))"
   ]
  }
 ],
 "metadata": {
  "kernelspec": {
   "display_name": "Python 3",
   "language": "python",
   "name": "python3"
  },
  "language_info": {
   "codemirror_mode": {
    "name": "ipython",
    "version": 3
   },
   "file_extension": ".py",
   "mimetype": "text/x-python",
   "name": "python",
   "nbconvert_exporter": "python",
   "pygments_lexer": "ipython3",
   "version": "3.11.8"
  }
 },
 "nbformat": 4,
 "nbformat_minor": 2
}
